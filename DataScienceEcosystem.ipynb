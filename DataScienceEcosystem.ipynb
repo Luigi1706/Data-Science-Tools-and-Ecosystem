{
  "nbformat": 4,
  "nbformat_minor": 0,
  "metadata": {
    "colab": {
      "provenance": []
    },
    "kernelspec": {
      "name": "python3",
      "display_name": "Python 3"
    },
    "language_info": {
      "name": "python"
    }
  },
  "cells": [
    {
      "cell_type": "markdown",
      "source": [
        "# Data Science Tools and Ecosystem"
      ],
      "metadata": {
        "id": "MXkfT_o9ogjG"
      }
    },
    {
      "cell_type": "markdown",
      "source": [
        "In this notebook, Data Science Tools and Ecosystem are summarized."
      ],
      "metadata": {
        "id": "bhfktIvFpH3l"
      }
    },
    {
      "cell_type": "markdown",
      "source": [
        "Some of the popular languages that Data Scientists use are:\n",
        "\n",
        "1. Python\n",
        "2. R\n",
        "3. SQL\n",
        "4. Julia\n",
        "5. Scala\n"
      ],
      "metadata": {
        "id": "6zyQUpqDpu-G"
      }
    },
    {
      "cell_type": "markdown",
      "source": [
        "Some of the commonly used libraries used by Data Scientists include:\n",
        "\n",
        "- Pandas\n",
        "- NumPy\n",
        "- Matplotlib\n",
        "- Scikit-learn\n",
        "- TensorFlow\n"
      ],
      "metadata": {
        "id": "S8AChGGuqECL"
      }
    },
    {
      "cell_type": "markdown",
      "source": [
        "| Data Science Tools |\n",
        "|--------------------|\n",
        "| Jupyter Notebook   |\n",
        "| RStudio            |\n",
        "| Apache Zeppelin    |\n"
      ],
      "metadata": {
        "id": "kHH3cPZNqX0j"
      }
    },
    {
      "cell_type": "markdown",
      "source": [
        "### Below are a few examples of evaluating arithmetic expressions in Python.\n",
        "\n",
        "Here are some basic examples of arithmetic operations in Python:\n",
        "\n",
        "- Addition: `3 + 2`\n",
        "- Subtraction: `5 - 3`\n",
        "- Multiplication: `4 * 2`\n",
        "- Division: `8 / 4`\n"
      ],
      "metadata": {
        "id": "ddtuzHXzrEXh"
      }
    },
    {
      "cell_type": "code",
      "source": [
        "# Esta es una expresión aritmética simple para multiplicar y luego sumar números enteros.\n",
        "result = (3 * 4) + 517\n",
        "result"
      ],
      "metadata": {
        "colab": {
          "base_uri": "https://localhost:8080/"
        },
        "id": "uUJfIvO4rbsX",
        "outputId": "51b4e2b9-f4d7-4a29-b4b1-7a49eeb40e69"
      },
      "execution_count": 1,
      "outputs": [
        {
          "output_type": "execute_result",
          "data": {
            "text/plain": [
              "529"
            ]
          },
          "metadata": {},
          "execution_count": 1
        }
      ]
    },
    {
      "cell_type": "code",
      "source": [
        "# Esto convertirá 200 minutos en horas dividiendo por 60.\n",
        "minutes = 200\n",
        "hours = minutes / 60\n",
        "hours"
      ],
      "metadata": {
        "colab": {
          "base_uri": "https://localhost:8080/"
        },
        "id": "xsbGncdxr7YI",
        "outputId": "83ee5d23-dcdf-4b8a-fb0f-38c54a8bce21"
      },
      "execution_count": 2,
      "outputs": [
        {
          "output_type": "execute_result",
          "data": {
            "text/plain": [
              "3.3333333333333335"
            ]
          },
          "metadata": {},
          "execution_count": 2
        }
      ]
    },
    {
      "cell_type": "markdown",
      "source": [
        "**Objetivos:**\n",
        "\n",
        "- Enumerar los lenguajes populares para la Ciencia de Datos\n",
        "- Introducir bibliotecas comunes utilizadas en Ciencia de Datos\n",
        "- Demostrar operaciones aritméticas en Python\n",
        "- Convertir minutos a horas en Python\n",
        "- Explicar el uso de Markdown en Jupyter Notebooks\n"
      ],
      "metadata": {
        "id": "1VAKB3aisT8N"
      }
    },
    {
      "cell_type": "markdown",
      "source": [
        "## Author\n",
        "\n",
        "Luigi López\n"
      ],
      "metadata": {
        "id": "T32rcQ-ysji_"
      }
    }
  ]
}